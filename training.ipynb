{
 "cells": [
  {
   "cell_type": "code",
   "execution_count": null,
   "metadata": {},
   "outputs": [],
   "source": [
    "!pip install tensorflow"
   ]
  },
  {
   "cell_type": "code",
   "execution_count": null,
   "metadata": {},
   "outputs": [],
   "source": [
    "!pip install PIL"
   ]
  },
  {
   "cell_type": "code",
   "execution_count": null,
   "metadata": {},
   "outputs": [],
   "source": [
    "!pip install scipy"
   ]
  },
  {
   "cell_type": "code",
   "execution_count": 2,
   "metadata": {},
   "outputs": [],
   "source": [
    "import tensorflow as tf\n",
    "from tensorflow.keras.preprocessing.image import ImageDataGenerator\n",
    "from tensorflow.keras.applications import MobileNetV2\n",
    "from tensorflow.keras.models import Model\n",
    "from tensorflow.keras.layers import Dense, GlobalAveragePooling2D, Dropout\n",
    "from tensorflow.keras.optimizers import Adam\n",
    "from tensorflow.keras.callbacks import ReduceLROnPlateau, EarlyStopping\n"
   ]
  },
  {
   "cell_type": "code",
   "execution_count": 5,
   "metadata": {},
   "outputs": [
    {
     "name": "stdout",
     "output_type": "stream",
     "text": [
      "Found 6881 images belonging to 116 classes.\n",
      "Found 1292 images belonging to 116 classes.\n"
     ]
    }
   ],
   "source": [
    "# Parameter\n",
    "IMG_SIZE = (224,224)  # Ukuran gambar untuk MobileNetV2\n",
    "BATCH_SIZE = 32\n",
    "EPOCHS = 50\n",
    "LEARNING_RATE = 0.001\n",
    "FINE_TUNE_EPOCHS = 20  # Tambahan epoch untuk fine-tuning\n",
    "FINE_TUNE_LR = 1e-5    # Learning rate untuk fine-tuning\n",
    "\n",
    "# Direktori dataset\n",
    "train_dir = \"train\"\n",
    "test_dir = \"test\"\n",
    "\n",
    "# Augmentasi Data\n",
    "train_datagen = ImageDataGenerator(\n",
    "    rescale=1.0/255,\n",
    "    rotation_range=20,\n",
    "    width_shift_range=0.2,\n",
    "    height_shift_range=0.2,\n",
    "    shear_range=0.2,\n",
    "    zoom_range=0.2,\n",
    "    horizontal_flip=True,\n",
    "    fill_mode=\"nearest\"\n",
    ")\n",
    "test_datagen = ImageDataGenerator(rescale=1.0/255)\n",
    "\n",
    "# Generator Data\n",
    "train_generator = train_datagen.flow_from_directory(\n",
    "    train_dir,\n",
    "    target_size=IMG_SIZE,\n",
    "    batch_size=BATCH_SIZE,\n",
    "    class_mode=\"categorical\"\n",
    ")\n",
    "test_generator = test_datagen.flow_from_directory(\n",
    "    test_dir,\n",
    "    target_size=IMG_SIZE,\n",
    "    batch_size=BATCH_SIZE,\n",
    "    class_mode=\"categorical\"\n",
    ")\n",
    "\n",
    "# Informasi jumlah kelas\n",
    "num_classes = len(train_generator.class_indices)"
   ]
  },
  {
   "cell_type": "code",
   "execution_count": null,
   "metadata": {},
   "outputs": [
    {
     "name": "stderr",
     "output_type": "stream",
     "text": [
      "c:\\Users\\MAHASISWA\\Documents\\GitHub\\Nusantara_Culture_Database\\.venv\\Lib\\site-packages\\keras\\src\\trainers\\data_adapters\\py_dataset_adapter.py:121: UserWarning: Your `PyDataset` class should call `super().__init__(**kwargs)` in its constructor. `**kwargs` can include `workers`, `use_multiprocessing`, `max_queue_size`. Do not pass these arguments to `fit()`, as they will be ignored.\n",
      "  self._warn_if_super_not_called()\n"
     ]
    },
    {
     "name": "stdout",
     "output_type": "stream",
     "text": [
      "Epoch 1/50\n",
      "\u001b[1m216/216\u001b[0m \u001b[32m━━━━━━━━━━━━━━━━━━━━\u001b[0m\u001b[37m\u001b[0m \u001b[1m286s\u001b[0m 1s/step - accuracy: 0.1971 - loss: 3.6771 - val_accuracy: 0.5132 - val_loss: 1.6953 - learning_rate: 0.0010\n",
      "Epoch 2/50\n",
      "\u001b[1m216/216\u001b[0m \u001b[32m━━━━━━━━━━━━━━━━━━━━\u001b[0m\u001b[37m\u001b[0m \u001b[1m235s\u001b[0m 1s/step - accuracy: 0.5058 - loss: 1.7494 - val_accuracy: 0.6308 - val_loss: 1.2766 - learning_rate: 0.0010\n",
      "Epoch 3/50\n",
      "\u001b[1m216/216\u001b[0m \u001b[32m━━━━━━━━━━━━━━━━━━━━\u001b[0m\u001b[37m\u001b[0m \u001b[1m215s\u001b[0m 994ms/step - accuracy: 0.5944 - loss: 1.3635 - val_accuracy: 0.6695 - val_loss: 1.0850 - learning_rate: 0.0010\n",
      "Epoch 4/50\n",
      "\u001b[1m216/216\u001b[0m \u001b[32m━━━━━━━━━━━━━━━━━━━━\u001b[0m\u001b[37m\u001b[0m \u001b[1m218s\u001b[0m 1s/step - accuracy: 0.6407 - loss: 1.1968 - val_accuracy: 0.7190 - val_loss: 0.9327 - learning_rate: 0.0010\n",
      "Epoch 5/50\n",
      "\u001b[1m216/216\u001b[0m \u001b[32m━━━━━━━━━━━━━━━━━━━━\u001b[0m\u001b[37m\u001b[0m \u001b[1m216s\u001b[0m 999ms/step - accuracy: 0.6641 - loss: 1.1200 - val_accuracy: 0.7423 - val_loss: 0.8890 - learning_rate: 0.0010\n",
      "Epoch 6/50\n",
      "\u001b[1m216/216\u001b[0m \u001b[32m━━━━━━━━━━━━━━━━━━━━\u001b[0m\u001b[37m\u001b[0m \u001b[1m216s\u001b[0m 1s/step - accuracy: 0.6883 - loss: 1.0063 - val_accuracy: 0.7438 - val_loss: 0.8890 - learning_rate: 0.0010\n",
      "Epoch 7/50\n",
      "\u001b[1m216/216\u001b[0m \u001b[32m━━━━━━━━━━━━━━━━━━━━\u001b[0m\u001b[37m\u001b[0m \u001b[1m213s\u001b[0m 985ms/step - accuracy: 0.6971 - loss: 0.9808 - val_accuracy: 0.7577 - val_loss: 0.8272 - learning_rate: 0.0010\n",
      "Epoch 8/50\n",
      "\u001b[1m216/216\u001b[0m \u001b[32m━━━━━━━━━━━━━━━━━━━━\u001b[0m\u001b[37m\u001b[0m \u001b[1m216s\u001b[0m 1s/step - accuracy: 0.7017 - loss: 0.9482 - val_accuracy: 0.7655 - val_loss: 0.8117 - learning_rate: 0.0010\n",
      "Epoch 9/50\n",
      "\u001b[1m216/216\u001b[0m \u001b[32m━━━━━━━━━━━━━━━━━━━━\u001b[0m\u001b[37m\u001b[0m \u001b[1m216s\u001b[0m 999ms/step - accuracy: 0.7145 - loss: 0.8917 - val_accuracy: 0.7732 - val_loss: 0.7791 - learning_rate: 0.0010\n",
      "Epoch 10/50\n",
      "\u001b[1m216/216\u001b[0m \u001b[32m━━━━━━━━━━━━━━━━━━━━\u001b[0m\u001b[37m\u001b[0m \u001b[1m213s\u001b[0m 987ms/step - accuracy: 0.7190 - loss: 0.8904 - val_accuracy: 0.7802 - val_loss: 0.7263 - learning_rate: 0.0010\n",
      "Epoch 11/50\n",
      "\u001b[1m216/216\u001b[0m \u001b[32m━━━━━━━━━━━━━━━━━━━━\u001b[0m\u001b[37m\u001b[0m \u001b[1m225s\u001b[0m 1s/step - accuracy: 0.7382 - loss: 0.8362 - val_accuracy: 0.7794 - val_loss: 0.7330 - learning_rate: 0.0010\n",
      "Epoch 12/50\n",
      "\u001b[1m216/216\u001b[0m \u001b[32m━━━━━━━━━━━━━━━━━━━━\u001b[0m\u001b[37m\u001b[0m \u001b[1m214s\u001b[0m 990ms/step - accuracy: 0.7401 - loss: 0.8089 - val_accuracy: 0.7678 - val_loss: 0.7612 - learning_rate: 0.0010\n",
      "Epoch 13/50\n",
      "\u001b[1m216/216\u001b[0m \u001b[32m━━━━━━━━━━━━━━━━━━━━\u001b[0m\u001b[37m\u001b[0m \u001b[1m213s\u001b[0m 984ms/step - accuracy: 0.7391 - loss: 0.8208 - val_accuracy: 0.8034 - val_loss: 0.6968 - learning_rate: 0.0010\n",
      "Epoch 14/50\n",
      "\u001b[1m216/216\u001b[0m \u001b[32m━━━━━━━━━━━━━━━━━━━━\u001b[0m\u001b[37m\u001b[0m \u001b[1m214s\u001b[0m 990ms/step - accuracy: 0.7536 - loss: 0.7623 - val_accuracy: 0.8011 - val_loss: 0.7080 - learning_rate: 0.0010\n",
      "Epoch 15/50\n",
      "\u001b[1m216/216\u001b[0m \u001b[32m━━━━━━━━━━━━━━━━━━━━\u001b[0m\u001b[37m\u001b[0m \u001b[1m218s\u001b[0m 1s/step - accuracy: 0.7355 - loss: 0.8337 - val_accuracy: 0.7980 - val_loss: 0.6972 - learning_rate: 0.0010\n",
      "Epoch 16/50\n",
      "\u001b[1m216/216\u001b[0m \u001b[32m━━━━━━━━━━━━━━━━━━━━\u001b[0m\u001b[37m\u001b[0m \u001b[1m213s\u001b[0m 984ms/step - accuracy: 0.7712 - loss: 0.7221 - val_accuracy: 0.7817 - val_loss: 0.7454 - learning_rate: 0.0010\n",
      "Epoch 17/50\n",
      "\u001b[1m216/216\u001b[0m \u001b[32m━━━━━━━━━━━━━━━━━━━━\u001b[0m\u001b[37m\u001b[0m \u001b[1m235s\u001b[0m 1s/step - accuracy: 0.7891 - loss: 0.6618 - val_accuracy: 0.8173 - val_loss: 0.6480 - learning_rate: 2.0000e-04\n",
      "Epoch 18/50\n",
      "\u001b[1m216/216\u001b[0m \u001b[32m━━━━━━━━━━━━━━━━━━━━\u001b[0m\u001b[37m\u001b[0m \u001b[1m244s\u001b[0m 1s/step - accuracy: 0.8071 - loss: 0.5981 - val_accuracy: 0.8181 - val_loss: 0.6325 - learning_rate: 2.0000e-04\n",
      "Epoch 19/50\n",
      "\u001b[1m216/216\u001b[0m \u001b[32m━━━━━━━━━━━━━━━━━━━━\u001b[0m\u001b[37m\u001b[0m \u001b[1m262s\u001b[0m 1s/step - accuracy: 0.7982 - loss: 0.6377 - val_accuracy: 0.8228 - val_loss: 0.6312 - learning_rate: 2.0000e-04\n",
      "Epoch 20/50\n",
      "\u001b[1m216/216\u001b[0m \u001b[32m━━━━━━━━━━━━━━━━━━━━\u001b[0m\u001b[37m\u001b[0m \u001b[1m220s\u001b[0m 1s/step - accuracy: 0.7984 - loss: 0.6000 - val_accuracy: 0.8228 - val_loss: 0.6180 - learning_rate: 2.0000e-04\n",
      "Epoch 21/50\n",
      "\u001b[1m216/216\u001b[0m \u001b[32m━━━━━━━━━━━━━━━━━━━━\u001b[0m\u001b[37m\u001b[0m \u001b[1m216s\u001b[0m 1s/step - accuracy: 0.7970 - loss: 0.6119 - val_accuracy: 0.8282 - val_loss: 0.6070 - learning_rate: 2.0000e-04\n",
      "Epoch 22/50\n",
      "\u001b[1m216/216\u001b[0m \u001b[32m━━━━━━━━━━━━━━━━━━━━\u001b[0m\u001b[37m\u001b[0m \u001b[1m229s\u001b[0m 1s/step - accuracy: 0.8024 - loss: 0.6113 - val_accuracy: 0.8251 - val_loss: 0.6206 - learning_rate: 2.0000e-04\n",
      "Epoch 23/50\n",
      "\u001b[1m216/216\u001b[0m \u001b[32m━━━━━━━━━━━━━━━━━━━━\u001b[0m\u001b[37m\u001b[0m \u001b[1m202s\u001b[0m 933ms/step - accuracy: 0.8158 - loss: 0.5411 - val_accuracy: 0.8328 - val_loss: 0.6026 - learning_rate: 2.0000e-04\n",
      "Epoch 24/50\n",
      "\u001b[1m216/216\u001b[0m \u001b[32m━━━━━━━━━━━━━━━━━━━━\u001b[0m\u001b[37m\u001b[0m \u001b[1m202s\u001b[0m 933ms/step - accuracy: 0.8132 - loss: 0.5741 - val_accuracy: 0.8382 - val_loss: 0.5970 - learning_rate: 2.0000e-04\n",
      "Epoch 25/50\n",
      "\u001b[1m216/216\u001b[0m \u001b[32m━━━━━━━━━━━━━━━━━━━━\u001b[0m\u001b[37m\u001b[0m \u001b[1m217s\u001b[0m 1s/step - accuracy: 0.8135 - loss: 0.5728 - val_accuracy: 0.8336 - val_loss: 0.5902 - learning_rate: 2.0000e-04\n",
      "Epoch 26/50\n",
      "\u001b[1m216/216\u001b[0m \u001b[32m━━━━━━━━━━━━━━━━━━━━\u001b[0m\u001b[37m\u001b[0m \u001b[1m214s\u001b[0m 989ms/step - accuracy: 0.8108 - loss: 0.5657 - val_accuracy: 0.8375 - val_loss: 0.5914 - learning_rate: 2.0000e-04\n",
      "Epoch 27/50\n",
      "\u001b[1m216/216\u001b[0m \u001b[32m━━━━━━━━━━━━━━━━━━━━\u001b[0m\u001b[37m\u001b[0m \u001b[1m223s\u001b[0m 1s/step - accuracy: 0.8243 - loss: 0.5315 - val_accuracy: 0.8359 - val_loss: 0.5954 - learning_rate: 2.0000e-04\n",
      "Epoch 28/50\n",
      "\u001b[1m216/216\u001b[0m \u001b[32m━━━━━━━━━━━━━━━━━━━━\u001b[0m\u001b[37m\u001b[0m \u001b[1m212s\u001b[0m 981ms/step - accuracy: 0.8186 - loss: 0.5350 - val_accuracy: 0.8406 - val_loss: 0.5950 - learning_rate: 2.0000e-04\n",
      "Epoch 29/50\n",
      "\u001b[1m216/216\u001b[0m \u001b[32m━━━━━━━━━━━━━━━━━━━━\u001b[0m\u001b[37m\u001b[0m \u001b[1m217s\u001b[0m 1s/step - accuracy: 0.8288 - loss: 0.5201 - val_accuracy: 0.8398 - val_loss: 0.5885 - learning_rate: 4.0000e-05\n",
      "Epoch 30/50\n",
      "\u001b[1m216/216\u001b[0m \u001b[32m━━━━━━━━━━━━━━━━━━━━\u001b[0m\u001b[37m\u001b[0m \u001b[1m218s\u001b[0m 1s/step - accuracy: 0.8320 - loss: 0.5252 - val_accuracy: 0.8406 - val_loss: 0.5842 - learning_rate: 4.0000e-05\n",
      "Epoch 31/50\n",
      "\u001b[1m216/216\u001b[0m \u001b[32m━━━━━━━━━━━━━━━━━━━━\u001b[0m\u001b[37m\u001b[0m \u001b[1m238s\u001b[0m 1s/step - accuracy: 0.8394 - loss: 0.5063 - val_accuracy: 0.8429 - val_loss: 0.5786 - learning_rate: 4.0000e-05\n",
      "Epoch 32/50\n",
      "\u001b[1m216/216\u001b[0m \u001b[32m━━━━━━━━━━━━━━━━━━━━\u001b[0m\u001b[37m\u001b[0m \u001b[1m226s\u001b[0m 1s/step - accuracy: 0.8291 - loss: 0.5260 - val_accuracy: 0.8444 - val_loss: 0.5776 - learning_rate: 4.0000e-05\n",
      "Epoch 33/50\n",
      "\u001b[1m216/216\u001b[0m \u001b[32m━━━━━━━━━━━━━━━━━━━━\u001b[0m\u001b[37m\u001b[0m \u001b[1m212s\u001b[0m 980ms/step - accuracy: 0.8274 - loss: 0.5267 - val_accuracy: 0.8367 - val_loss: 0.5859 - learning_rate: 4.0000e-05\n",
      "Epoch 34/50\n",
      "\u001b[1m216/216\u001b[0m \u001b[32m━━━━━━━━━━━━━━━━━━━━\u001b[0m\u001b[37m\u001b[0m \u001b[1m212s\u001b[0m 983ms/step - accuracy: 0.8346 - loss: 0.5046 - val_accuracy: 0.8390 - val_loss: 0.5843 - learning_rate: 4.0000e-05\n",
      "Epoch 35/50\n",
      "\u001b[1m216/216\u001b[0m \u001b[32m━━━━━━━━━━━━━━━━━━━━\u001b[0m\u001b[37m\u001b[0m \u001b[1m213s\u001b[0m 986ms/step - accuracy: 0.8351 - loss: 0.4946 - val_accuracy: 0.8413 - val_loss: 0.5848 - learning_rate: 4.0000e-05\n",
      "Epoch 36/50\n",
      "\u001b[1m216/216\u001b[0m \u001b[32m━━━━━━━━━━━━━━━━━━━━\u001b[0m\u001b[37m\u001b[0m \u001b[1m212s\u001b[0m 984ms/step - accuracy: 0.8267 - loss: 0.5520 - val_accuracy: 0.8390 - val_loss: 0.5822 - learning_rate: 8.0000e-06\n",
      "Epoch 37/50\n",
      "\u001b[1m216/216\u001b[0m \u001b[32m━━━━━━━━━━━━━━━━━━━━\u001b[0m\u001b[37m\u001b[0m \u001b[1m212s\u001b[0m 982ms/step - accuracy: 0.8430 - loss: 0.4747 - val_accuracy: 0.8390 - val_loss: 0.5807 - learning_rate: 8.0000e-06\n"
     ]
    }
   ],
   "source": [
    "# Model Transfer Learning\n",
    "base_model = MobileNetV2(weights=\"imagenet\", include_top=False, input_shape=(224, 224, 3))\n",
    "base_model.trainable = False  # Bekukan layer pada model dasar untuk transfer learning\n",
    "\n",
    "# Tambahkan lapisan khusus\n",
    "x = base_model.output\n",
    "x = GlobalAveragePooling2D()(x)\n",
    "x = Dropout(0.5)(x)  # Dropout untuk mencegah overfitting\n",
    "x = Dense(256, activation=\"relu\")(x)\n",
    "predictions = Dense(num_classes, activation=\"softmax\")(x)\n",
    "\n",
    "# Buat model\n",
    "model = Model(inputs=base_model.input, outputs=predictions)\n",
    "\n",
    "# Kompilasi model untuk transfer learning\n",
    "model.compile(optimizer=Adam(learning_rate=LEARNING_RATE),\n",
    "              loss=\"categorical_crossentropy\",\n",
    "              metrics=[\"accuracy\"])\n",
    "\n",
    "# Callback\n",
    "reduce_lr = ReduceLROnPlateau(monitor=\"val_loss\", factor=0.2, patience=3, min_lr=1e-6)\n",
    "early_stopping = EarlyStopping(monitor=\"val_loss\", patience=5, restore_best_weights=True)\n",
    "\n",
    "# Pelatihan awal (transfer learning)\n",
    "history = model.fit(\n",
    "    train_generator,\n",
    "    epochs=EPOCHS,\n",
    "    validation_data=test_generator,\n",
    "    callbacks=[reduce_lr, early_stopping]\n",
    ")"
   ]
  },
  {
   "cell_type": "code",
   "execution_count": null,
   "metadata": {},
   "outputs": [
    {
     "name": "stderr",
     "output_type": "stream",
     "text": [
      "WARNING:absl:You are saving your model as an HDF5 file via `model.save()` or `keras.saving.save_model(model)`. This file format is considered legacy. We recommend using instead the native Keras format, e.g. `model.save('my_model.keras')` or `keras.saving.save_model(model, 'my_model.keras')`. \n"
     ]
    }
   ],
   "source": [
    "model.save(\"model_50_epochs.h5\") # Menyimpan model ke file my_model.h5"
   ]
  },
  {
   "cell_type": "code",
   "execution_count": null,
   "metadata": {},
   "outputs": [],
   "source": [
    "# Fine-tuning\n",
    "# Buka beberapa lapisan terakhir dari base model\n",
    "base_model.trainable = True\n",
    "for layer in base_model.layers[:-20]:  # Bekukan semua kecuali 20 lapisan terakhir\n",
    "    layer.trainable = False\n",
    "\n",
    "# Kompilasi ulang model dengan learning rate yang lebih kecil\n",
    "model.compile(optimizer=Adam(learning_rate=FINE_TUNE_LR),\n",
    "              loss=\"categorical_crossentropy\",\n",
    "              metrics=[\"accuracy\"])\n",
    "\n",
    "# Fine-tuning model\n",
    "history_fine_tune = model.fit(\n",
    "    train_generator,\n",
    "    epochs=FINE_TUNE_EPOCHS,\n",
    "    validation_data=test_generator,\n",
    "    callbacks=[reduce_lr, early_stopping]\n",
    ")\n",
    "\n",
    "# Evaluasi model\n",
    "loss, accuracy = model.evaluate(test_generator)\n",
    "print(f\"Test Loss: {loss}\")\n",
    "print(f\"Test Accuracy: {accuracy}\")\n",
    "model.save(\"my_model.h5\")  # Menyimpan model ke file my_model.h5"
   ]
  }
 ],
 "metadata": {
  "kernelspec": {
   "display_name": ".venv",
   "language": "python",
   "name": "python3"
  },
  "language_info": {
   "codemirror_mode": {
    "name": "ipython",
    "version": 3
   },
   "file_extension": ".py",
   "mimetype": "text/x-python",
   "name": "python",
   "nbconvert_exporter": "python",
   "pygments_lexer": "ipython3",
   "version": "3.11.9"
  }
 },
 "nbformat": 4,
 "nbformat_minor": 2
}
