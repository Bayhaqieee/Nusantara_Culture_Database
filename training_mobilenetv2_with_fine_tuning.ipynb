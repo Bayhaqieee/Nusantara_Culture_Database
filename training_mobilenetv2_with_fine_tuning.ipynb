{
 "cells": [
  {
   "cell_type": "code",
   "execution_count": null,
   "metadata": {
    "vscode": {
     "languageId": "plaintext"
    }
   },
   "outputs": [],
   "source": [
    "import tensorflow as tf\n",
    "from tensorflow.keras.applications import MobileNetV2\n",
    "from tensorflow.keras.layers import Dense, Flatten\n",
    "from tensorflow.keras.models import Model\n",
    "\n",
    "# Load model pra-terlatih\n",
    "base_model = MobileNetV2(weights='imagenet', include_top=False, input_shape=(128, 128, 3))\n",
    "\n",
    "# Bekukan semua lapisan awal\n",
    "base_model.trainable = False\n",
    "\n",
    "# Menambahkan lapisan khusus untuk tugas baru\n",
    "x = Flatten()(base_model.output)\n",
    "x = Dense(128, activation='relu')(x)\n",
    "output = Dense(116, activation='softmax')(x)  # Sesuaikan dengan jumlah kelas Anda\n",
    "\n",
    "# Gabungkan model\n",
    "model = Model(inputs=base_model.input, outputs=output)\n",
    "\n",
    "# Kompilasi model\n",
    "model.compile(optimizer='adam', loss='categorical_crossentropy', metrics=['accuracy'])\n",
    "\n",
    "# Melatih model\n",
    "model.fit(train_data, validation_data=test_data, epochs=10)\n",
    "\n",
    "# Fine-tuning: Buka beberapa lapisan awal\n",
    "base_model.trainable = True\n",
    "model.compile(optimizer=tf.keras.optimizers.Adam(1e-5), loss='categorical_crossentropy', metrics=['accuracy'])\n",
    "\n",
    "# Latih ulang model\n",
    "model.fit(train_data, validation_data=test_data, epochs=5)\n"
   ]
  }
 ],
 "metadata": {
  "language_info": {
   "name": "python"
  }
 },
 "nbformat": 4,
 "nbformat_minor": 2
}
