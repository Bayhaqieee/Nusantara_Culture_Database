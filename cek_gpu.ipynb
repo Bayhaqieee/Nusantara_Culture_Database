{
 "cells": [
  {
   "cell_type": "code",
   "execution_count": 1,
   "metadata": {},
   "outputs": [
    {
     "name": "stdout",
     "output_type": "stream",
     "text": [
      "Collecting pyopencl\n",
      "  Downloading pyopencl-2024.3-cp311-cp311-win_amd64.whl.metadata (4.8 kB)\n",
      "Requirement already satisfied: numpy in c:\\users\\mahasiswa\\documents\\github\\nusantara_culture_database\\.venv\\lib\\site-packages (from pyopencl) (2.0.2)\n",
      "Requirement already satisfied: platformdirs>=2.2 in c:\\users\\mahasiswa\\documents\\github\\nusantara_culture_database\\.venv\\lib\\site-packages (from pyopencl) (4.3.6)\n",
      "Collecting pytools>=2024.1.5 (from pyopencl)\n",
      "  Downloading pytools-2024.1.16-py3-none-any.whl.metadata (2.9 kB)\n",
      "Requirement already satisfied: typing-extensions>=4 in c:\\users\\mahasiswa\\documents\\github\\nusantara_culture_database\\.venv\\lib\\site-packages (from pytools>=2024.1.5->pyopencl) (4.12.2)\n",
      "Downloading pyopencl-2024.3-cp311-cp311-win_amd64.whl (438 kB)\n",
      "Downloading pytools-2024.1.16-py3-none-any.whl (88 kB)\n",
      "Installing collected packages: pytools, pyopencl\n",
      "Successfully installed pyopencl-2024.3 pytools-2024.1.16\n"
     ]
    }
   ],
   "source": [
    "!pip install pyopencl"
   ]
  },
  {
   "cell_type": "code",
   "execution_count": 2,
   "metadata": {},
   "outputs": [
    {
     "name": "stderr",
     "output_type": "stream",
     "text": [
      "c:\\Users\\MAHASISWA\\Documents\\GitHub\\Nusantara_Culture_Database\\.venv\\Lib\\site-packages\\pytools\\persistent_dict.py:52: RecommendedHashNotFoundWarning: Unable to import recommended hash 'siphash24.siphash13', falling back to 'hashlib.sha256'. Run 'python3 -m pip install siphash24' to install the recommended hash.\n",
      "  warn(\"Unable to import recommended hash 'siphash24.siphash13', \"\n"
     ]
    },
    {
     "name": "stdout",
     "output_type": "stream",
     "text": [
      "Platform: Intel(R) OpenCL HD Graphics\n",
      "Device: Intel(R) UHD Graphics 630 Type: ALL | GPU\n",
      "Platform: AMD Accelerated Parallel Processing\n",
      "Device: gfx804 Type: ALL | GPU\n"
     ]
    }
   ],
   "source": [
    "import pyopencl as cl\n",
    "\n",
    "# List all platforms and devices\n",
    "platforms = cl.get_platforms()\n",
    "for platform in platforms:\n",
    "    print(\"Platform:\", platform.name)\n",
    "    devices = platform.get_devices()\n",
    "    for device in devices:\n",
    "        print(\"Device:\", device.name, \"Type:\", cl.device_type.to_string(device.type))"
   ]
  },
  {
   "cell_type": "code",
   "execution_count": null,
   "metadata": {},
   "outputs": [],
   "source": []
  }
 ],
 "metadata": {
  "kernelspec": {
   "display_name": ".venv",
   "language": "python",
   "name": "python3"
  },
  "language_info": {
   "codemirror_mode": {
    "name": "ipython",
    "version": 3
   },
   "file_extension": ".py",
   "mimetype": "text/x-python",
   "name": "python",
   "nbconvert_exporter": "python",
   "pygments_lexer": "ipython3",
   "version": "3.11.9"
  }
 },
 "nbformat": 4,
 "nbformat_minor": 2
}
